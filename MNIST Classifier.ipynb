{
 "cells": [
  {
   "cell_type": "markdown",
   "id": "31d77ea4",
   "metadata": {},
   "source": [
    "# Libraries"
   ]
  },
  {
   "cell_type": "code",
   "execution_count": 26,
   "id": "9b6a42a9",
   "metadata": {},
   "outputs": [],
   "source": [
    "import numpy as np\n",
    "import matplotlib.pyplot as plt\n",
    "import keras\n",
    "from keras.models import Sequential\n",
    "from keras.layers import Dense, Dropout\n",
    "import seaborn as sns"
   ]
  },
  {
   "cell_type": "markdown",
   "id": "c2595c0b",
   "metadata": {},
   "source": [
    "# Dataset"
   ]
  },
  {
   "cell_type": "code",
   "execution_count": 2,
   "id": "363c318a",
   "metadata": {},
   "outputs": [],
   "source": [
    "from keras.datasets import mnist"
   ]
  },
  {
   "cell_type": "code",
   "execution_count": 3,
   "id": "9b628cdd",
   "metadata": {
    "scrolled": true
   },
   "outputs": [],
   "source": [
    "(X_train,y_train),(X_test,y_test) = mnist.load_data()"
   ]
  },
  {
   "cell_type": "code",
   "execution_count": 4,
   "id": "77678c06",
   "metadata": {},
   "outputs": [
    {
     "data": {
      "text/plain": [
       "numpy.ndarray"
      ]
     },
     "execution_count": 4,
     "metadata": {},
     "output_type": "execute_result"
    }
   ],
   "source": [
    "type(X_train) # Tensors of MNIST Digit Data."
   ]
  },
  {
   "cell_type": "code",
   "execution_count": 5,
   "id": "324b1e58",
   "metadata": {},
   "outputs": [
    {
     "data": {
      "text/plain": [
       "(60000, 28, 28)"
      ]
     },
     "execution_count": 5,
     "metadata": {},
     "output_type": "execute_result"
    }
   ],
   "source": [
    "X_train.shape # Training Tensors."
   ]
  },
  {
   "cell_type": "code",
   "execution_count": 6,
   "id": "a080076a",
   "metadata": {},
   "outputs": [
    {
     "data": {
      "text/plain": [
       "(60000,)"
      ]
     },
     "execution_count": 6,
     "metadata": {},
     "output_type": "execute_result"
    }
   ],
   "source": [
    "y_train.shape # Labels for tensors"
   ]
  },
  {
   "cell_type": "code",
   "execution_count": 7,
   "id": "8b735437",
   "metadata": {},
   "outputs": [
    {
     "data": {
      "image/png": "[encoded data removed]",
      "text/plain": [
       "<Figure size 1440x1440 with 10 Axes>"
      ]
     },
     "metadata": {
      "needs_background": "light"
     },
     "output_type": "display_data"
    }
   ],
   "source": [
    "num = 10\n",
    "fig, axes = plt.subplots(1,num,figsize = (20,20))\n",
    "\n",
    "for i in range(num):\n",
    "    sample = X_train[y_train==i][0]\n",
    "    axes[i].imshow(sample,cmap = 'gray')\n",
    "    axes[i].set_title(\"Label : {}\".format(i),fontsize = 20)"
   ]
  },
  {
   "cell_type": "code",
   "execution_count": 8,
   "id": "1f87fa03",
   "metadata": {},
   "outputs": [],
   "source": [
    "y_train = keras.utils.to_categorical(y_train,num)\n",
    "y_test = keras.utils.to_categorical(y_test,num) # Vector Encoding Labels."
   ]
  },
  {
   "cell_type": "code",
   "execution_count": 9,
   "id": "ebd62348",
   "metadata": {},
   "outputs": [
    {
     "name": "stdout",
     "output_type": "stream",
     "text": [
      "[0. 0. 0. 0. 0. 1. 0. 0. 0. 0.]\n",
      "[1. 0. 0. 0. 0. 0. 0. 0. 0. 0.]\n",
      "[0. 0. 0. 0. 1. 0. 0. 0. 0. 0.]\n",
      "[0. 1. 0. 0. 0. 0. 0. 0. 0. 0.]\n",
      "[0. 0. 0. 0. 0. 0. 0. 0. 0. 1.]\n"
     ]
    }
   ],
   "source": [
    "for i in range(5):\n",
    "    print(y_train[i])"
   ]
  },
  {
   "cell_type": "code",
   "execution_count": 10,
   "id": "afcd9739",
   "metadata": {},
   "outputs": [],
   "source": [
    "# Normalizing Data\n",
    "X_train = X_train/255.0\n",
    "X_test = X_test/255.0"
   ]
  },
  {
   "cell_type": "code",
   "execution_count": 11,
   "id": "8f790578",
   "metadata": {},
   "outputs": [
    {
     "name": "stdout",
     "output_type": "stream",
     "text": [
      "(60000, 784)\n"
     ]
    }
   ],
   "source": [
    "# Reshape \n",
    "X_train = X_train.reshape(X_train.shape[0],-1)\n",
    "X_test = X_test.reshape(X_test.shape[0],-1)\n",
    "print(X_train.shape)"
   ]
  },
  {
   "cell_type": "markdown",
   "id": "8576b397",
   "metadata": {},
   "source": [
    "# Building Model : Normal DNN"
   ]
  },
  {
   "cell_type": "code",
   "execution_count": 12,
   "id": "b34ef9bc",
   "metadata": {},
   "outputs": [],
   "source": [
    "model = Sequential()\n",
    "\n",
    "model.add(Dense(units = 128,input_shape=(784,),activation = 'relu'))\n",
    "model.add(Dense(units = 128,activation = 'relu'))\n",
    "model.add(Dropout(0.25))\n",
    "model.add(Dense(units = 10,activation = 'softmax'))\n",
    "\n",
    "model.compile(loss = \"categorical_crossentropy\",optimizer = 'adam',metrics=['accuracy'])"
   ]
  },
  {
   "cell_type": "code",
   "execution_count": 13,
   "id": "5fc79a67",
   "metadata": {},
   "outputs": [
    {
     "name": "stdout",
     "output_type": "stream",
     "text": [
      "Model: \"sequential\"\n",
      "_________________________________________________________________\n",
      " Layer (type)                Output Shape              Param #   \n",
      "=================================================================\n",
      " dense (Dense)               (None, 128)               100480    \n",
      "                                                                 \n",
      " dense_1 (Dense)             (None, 128)               16512     \n",
      "                                                                 \n",
      " dropout (Dropout)           (None, 128)               0         \n",
      "                                                                 \n",
      " dense_2 (Dense)             (None, 10)                1290      \n",
      "                                                                 \n",
      "=================================================================\n",
      "Total params: 118282 (462.04 KB)\n",
      "Trainable params: 118282 (462.04 KB)\n",
      "Non-trainable params: 0 (0.00 Byte)\n",
      "_________________________________________________________________\n"
     ]
    }
   ],
   "source": [
    "model.summary()"
   ]
  },
  {
   "cell_type": "markdown",
   "id": "e162af1c",
   "metadata": {},
   "source": [
    "## Training"
   ]
  },
  {
   "cell_type": "code",
   "execution_count": 14,
   "id": "3ef81092",
   "metadata": {
    "scrolled": true
   },
   "outputs": [
    {
     "name": "stdout",
     "output_type": "stream",
     "text": [
      "Epoch 1/10\n",
      "118/118 [==============================] - 3s 9ms/step - loss: 0.5889 - accuracy: 0.8307\n",
      "Epoch 2/10\n",
      "118/118 [==============================] - 1s 9ms/step - loss: 0.2258 - accuracy: 0.9351\n",
      "Epoch 3/10\n",
      "118/118 [==============================] - 1s 10ms/step - loss: 0.1661 - accuracy: 0.9513\n",
      "Epoch 4/10\n",
      "118/118 [==============================] - 1s 11ms/step - loss: 0.1327 - accuracy: 0.9596\n",
      "Epoch 5/10\n",
      "118/118 [==============================] - 1s 10ms/step - loss: 0.1099 - accuracy: 0.9678\n",
      "Epoch 6/10\n",
      "118/118 [==============================] - 1s 9ms/step - loss: 0.0940 - accuracy: 0.9722\n",
      "Epoch 7/10\n",
      "118/118 [==============================] - 1s 9ms/step - loss: 0.0798 - accuracy: 0.9754\n",
      "Epoch 8/10\n",
      "118/118 [==============================] - 1s 12ms/step - loss: 0.0709 - accuracy: 0.9792\n",
      "Epoch 9/10\n",
      "118/118 [==============================] - 1s 11ms/step - loss: 0.0609 - accuracy: 0.9819\n",
      "Epoch 10/10\n",
      "118/118 [==============================] - 1s 11ms/step - loss: 0.0541 - accuracy: 0.9836\n"
     ]
    },
    {
     "data": {
      "text/plain": [
       "<keras.src.callbacks.History at 0x2518b8341c0>"
      ]
     },
     "execution_count": 14,
     "metadata": {},
     "output_type": "execute_result"
    }
   ],
   "source": [
    "batch_size = 512\n",
    "epochs = 10\n",
    "model.fit(X_train,y_train,batch_size,epochs)"
   ]
  },
  {
   "cell_type": "markdown",
   "id": "54db3e14",
   "metadata": {},
   "source": [
    "## Testing"
   ]
  },
  {
   "cell_type": "code",
   "execution_count": 15,
   "id": "e8d13649",
   "metadata": {},
   "outputs": [
    {
     "name": "stdout",
     "output_type": "stream",
     "text": [
      "313/313 [==============================] - 1s 2ms/step\n"
     ]
    }
   ],
   "source": [
    "preds = model.predict(X_test)"
   ]
  },
  {
   "cell_type": "code",
   "execution_count": 16,
   "id": "1bdd2ca6",
   "metadata": {},
   "outputs": [
    {
     "data": {
      "text/plain": [
       "array([[8.4925802e-07, 2.8095280e-07, 3.4811030e-05, ..., 9.9954236e-01,\n",
       "        2.0700084e-07, 7.4912709e-06],\n",
       "       [5.4399408e-07, 9.7500783e-04, 9.9886036e-01, ..., 3.0451693e-07,\n",
       "        8.8869238e-06, 1.6453027e-09],\n",
       "       [1.0398149e-06, 9.9835771e-01, 3.1821130e-04, ..., 8.9736714e-04,\n",
       "        1.4824445e-04, 1.2613859e-05],\n",
       "       ...,\n",
       "       [8.6187092e-11, 8.2482576e-10, 5.1328919e-10, ..., 1.2770007e-06,\n",
       "        9.2032861e-09, 3.7421337e-06],\n",
       "       [8.7257447e-08, 4.4960338e-08, 2.1994733e-09, ..., 1.8430431e-09,\n",
       "        2.2235970e-05, 9.8528252e-09],\n",
       "       [3.6591732e-08, 1.0203470e-09, 1.3837701e-08, ..., 9.4145937e-13,\n",
       "        1.0806081e-08, 9.0966601e-10]], dtype=float32)"
      ]
     },
     "execution_count": 16,
     "metadata": {},
     "output_type": "execute_result"
    }
   ],
   "source": [
    "preds"
   ]
  },
  {
   "cell_type": "code",
   "execution_count": 17,
   "id": "dd6de5c2",
   "metadata": {},
   "outputs": [
    {
     "name": "stdout",
     "output_type": "stream",
     "text": [
      "313/313 [==============================] - 1s 2ms/step - loss: 0.0747 - accuracy: 0.9768\n"
     ]
    }
   ],
   "source": [
    "test_loss, test_acc = model.evaluate(X_test,y_test)"
   ]
  },
  {
   "cell_type": "code",
   "execution_count": 18,
   "id": "70ed77ba",
   "metadata": {},
   "outputs": [
    {
     "data": {
      "text/plain": [
       "0.9768000245094299"
      ]
     },
     "execution_count": 18,
     "metadata": {},
     "output_type": "execute_result"
    }
   ],
   "source": [
    "test_acc"
   ]
  },
  {
   "cell_type": "code",
   "execution_count": 19,
   "id": "8ccc5ac7",
   "metadata": {},
   "outputs": [
    {
     "data": {
      "text/plain": [
       "0.07469567656517029"
      ]
     },
     "execution_count": 19,
     "metadata": {},
     "output_type": "execute_result"
    }
   ],
   "source": [
    "test_loss"
   ]
  },
  {
   "cell_type": "code",
   "execution_count": 20,
   "id": "e5a9df0c",
   "metadata": {},
   "outputs": [
    {
     "data": {
      "text/plain": [
       "array([7, 2, 1, ..., 4, 5, 6], dtype=int64)"
      ]
     },
     "execution_count": 20,
     "metadata": {},
     "output_type": "execute_result"
    }
   ],
   "source": [
    "pred_classes = np.argmax(preds,axis=1)\n",
    "pred_classes"
   ]
  },
  {
   "cell_type": "code",
   "execution_count": 21,
   "id": "30bcf7a8",
   "metadata": {},
   "outputs": [
    {
     "data": {
      "text/plain": [
       "<matplotlib.image.AxesImage at 0x2518e8aa880>"
      ]
     },
     "execution_count": 21,
     "metadata": {},
     "output_type": "execute_result"
    },
    {
     "data": {
      "image/png": "[encoded data removed]",
      "text/plain": [
       "<Figure size 432x288 with 1 Axes>"
      ]
     },
     "metadata": {
      "needs_background": "light"
     },
     "output_type": "display_data"
    }
   ],
   "source": [
    "randidx = np.random.choice(len(X_test))\n",
    "X_sample = X_test[randidx]\n",
    "y_true = np.argmax(y_test,axis=1)\n",
    "y_sample_true = y_true[randidx]\n",
    "y_sample_pred_class = pred_classes[randidx]\n",
    "\n",
    "plt.title(\"Predicted : {}, Actual : {}\".format(y_sample_pred_class,y_sample_true))\n",
    "plt.imshow(X_sample.reshape(28,28),cmap = 'gray')"
   ]
  },
  {
   "cell_type": "markdown",
   "id": "2da0717c",
   "metadata": {},
   "source": [
    "## Confusion Matrix"
   ]
  },
  {
   "cell_type": "code",
   "execution_count": 29,
   "id": "5d3273db",
   "metadata": {},
   "outputs": [
    {
     "name": "stdout",
     "output_type": "stream",
     "text": [
      "[[ 969    1    0    0    1    3    2    1    3    0]\n",
      " [   0 1121    3    1    0    1    4    1    4    0]\n",
      " [   5    0 1006    9    1    0    1    5    4    1]\n",
      " [   0    0    3  997    0    4    0    1    5    0]\n",
      " [   1    0    2    0  951    1    6    2    2   17]\n",
      " [   2    0    0    8    1  873    2    0    4    2]\n",
      " [   4    3    1    0    2    8  938    0    2    0]\n",
      " [   1    5    8    3    0    0    0 1001    1    9]\n",
      " [   3    1    3   13    4    9    3    3  931    4]\n",
      " [   3    3    0    9    5    3    1    4    0  981]]\n"
     ]
    },
    {
     "data": {
      "image/png": "[encoded data removed]",
      "text/plain": [
       "<Figure size 1080x720 with 2 Axes>"
      ]
     },
     "metadata": {
      "needs_background": "light"
     },
     "output_type": "display_data"
    }
   ],
   "source": [
    "from sklearn.metrics import confusion_matrix, ConfusionMatrixDisplay\n",
    "cm = confusion_matrix(y_true, pred_classes)\n",
    "fig,axes = plt.subplots(figsize = (15,10))\n",
    "axes = sns.heatmap(cm,annot = True,fmt='d',ax = axes, cmap = \"Blues\")\n",
    "print(cm)"
   ]
  },
  {
   "cell_type": "code",
   "execution_count": null,
   "id": "e162daf5",
   "metadata": {},
   "outputs": [],
   "source": []
  },
  {
   "cell_type": "code",
   "execution_count": null,
   "id": "14a7537c",
   "metadata": {},
   "outputs": [],
   "source": []
  },
  {
   "cell_type": "code",
   "execution_count": null,
   "id": "e04b35d8",
   "metadata": {},
   "outputs": [],
   "source": []
  },
  {
   "cell_type": "code",
   "execution_count": null,
   "id": "a958f041",
   "metadata": {},
   "outputs": [],
   "source": []
  },
  {
   "cell_type": "code",
   "execution_count": null,
   "id": "1c54f803",
   "metadata": {},
   "outputs": [],
   "source": []
  },
  {
   "cell_type": "code",
   "execution_count": null,
   "id": "7ba2e954",
   "metadata": {},
   "outputs": [],
   "source": []
  },
  {
   "cell_type": "code",
   "execution_count": null,
   "id": "a1295ccf",
   "metadata": {},
   "outputs": [],
   "source": []
  },
  {
   "cell_type": "code",
   "execution_count": null,
   "id": "71531ed2",
   "metadata": {},
   "outputs": [],
   "source": []
  },
  {
   "cell_type": "code",
   "execution_count": null,
   "id": "821b8a6c",
   "metadata": {},
   "outputs": [],
   "source": []
  },
  {
   "cell_type": "code",
   "execution_count": null,
   "id": "8086cf83",
   "metadata": {},
   "outputs": [],
   "source": []
  },
  {
   "cell_type": "code",
   "execution_count": null,
   "id": "82232906",
   "metadata": {},
   "outputs": [],
   "source": []
  }
 ],
 "metadata": {
  "kernelspec": {
   "display_name": "Python 3",
   "language": "python",
   "name": "python3"
  },
  "language_info": {
   "codemirror_mode": {
    "name": "ipython",
    "version": 3
   },
   "file_extension": ".py",
   "mimetype": "text/x-python",
   "name": "python",
   "nbconvert_exporter": "python",
   "pygments_lexer": "ipython3",
   "version": "3.8.8"
  }
 },
 "nbformat": 4,
 "nbformat_minor": 5
}
